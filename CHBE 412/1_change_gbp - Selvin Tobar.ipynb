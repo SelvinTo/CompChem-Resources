{
 "cells": [
  {
   "cell_type": "markdown",
   "id": "475cb616",
   "metadata": {},
   "source": [
    "Write a function that converts `x` from pounds (£) to coins (1p, 2p, 5p, 10p, 20p, 50p) using the *fewest* coins possible. The general structure of your function should be\n",
    "\n",
    "```python\n",
    "def change(x):\n",
    "    # your code goes here\n",
    "```\n",
    "\n",
    "Use your function to evaluate the change for  \n",
    "> a) £0.77  \n",
    "> b) £0.29  \n",
    "\n",
    "Sample output for your code is  \n",
    "`Change for 0.15 is`  \n",
    "`1p:      0`  \n",
    "`2p:      0`  \n",
    "`5p:      1`  \n",
    "`10p:     1`  \n",
    "`20p:     0`  \n",
    "`50p:     0`\n",
    "\n",
    "Hint: You may have issues with floating point math. If you are having problems, try embedding print statements so that you can observe the variables in your function."
   ]
  },
  {
   "cell_type": "code",
   "execution_count": 3,
   "id": "87413d82",
   "metadata": {},
   "outputs": [
    {
     "name": "stdout",
     "output_type": "stream",
     "text": [
      "Change for 0.77 is\n",
      "1p: 0\n",
      "2p: 1\n",
      "5p: 1\n",
      "10p: 0\n",
      "20p: 1\n",
      "50p: 1\n",
      "\n",
      "Change for 0.29 is\n",
      "1p: 1\n",
      "2p: 1\n",
      "5p: 1\n",
      "10p: 0\n",
      "20p: 1\n",
      "50p: 0\n"
     ]
    }
   ],
   "source": [
    "def change(x):\n",
    "    Pennies = [0.50,0.20,0.10,0.05,0.02,0.01]\n",
    "    coins = []\n",
    "    print(\"Change for\",x,\"is\")\n",
    "    for z in Pennies:\n",
    "        y = x // z \n",
    "        coins.append(y)\n",
    "        x = x%z\n",
    "    name = [\"1p:\",\"2p:\",\"5p:\",\"10p:\",\"20p:\",\"50p:\"]\n",
    "       \n",
    "    for i in range(len(name)):\n",
    "        print(name[i],f'{coins[-i+5]:.0f}')\n",
    "                   \n",
    "\n",
    "change(.77)\n",
    "print()\n",
    "change(.29)\n"
   ]
  },
  {
   "cell_type": "code",
   "execution_count": null,
   "id": "dac5a0b1",
   "metadata": {},
   "outputs": [],
   "source": []
  }
 ],
 "metadata": {
  "kernelspec": {
   "display_name": "Python 3",
   "language": "python",
   "name": "python3"
  },
  "language_info": {
   "codemirror_mode": {
    "name": "ipython",
    "version": 3
   },
   "file_extension": ".py",
   "mimetype": "text/x-python",
   "name": "python",
   "nbconvert_exporter": "python",
   "pygments_lexer": "ipython3",
   "version": "3.11.4"
  }
 },
 "nbformat": 4,
 "nbformat_minor": 5
}
