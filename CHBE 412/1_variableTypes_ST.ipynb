{
 "cells": [
  {
   "cell_type": "markdown",
   "id": "46a8b57f",
   "metadata": {},
   "source": [
    "Define the variable `m` with the atomic mass unit (in kg) and `p` with the parsec (in $\\mu$m). Include at least 4 significant digits in your definition. Include a label and units in your output.\n",
    "\n",
    "Print each as a float (with the default 6 decimals), as a string, and as an integer. Include a label specifying the variable type.\n",
    "\n",
    "Sample output of your code is:  \n",
    "`Pi`<br>\n",
    "`Float:   3.141590`<br>\n",
    "`String:  3.14159`<br>\n",
    "`Integer: 3`"
   ]
  },
  {
   "cell_type": "code",
   "execution_count": 1,
   "id": "d4cac617",
   "metadata": {},
   "outputs": [
    {
     "name": "stdout",
     "output_type": "stream",
     "text": [
      "Atomic Mass Unit, m = 1.660539e-27 kg\n",
      "Float: 0.000000 kg\n",
      "String: 0.0000000 kg\n",
      "Integer: 0 kg\n"
     ]
    }
   ],
   "source": [
    "m = 1.660539*10**-27 # kg, atomic mass unit \n",
    "\n",
    "print(\"Atomic Mass Unit, m =\",m,\"kg\")\n",
    "print(f'Float: {m:f} kg') \n",
    "print(\"String: {:.7f}\".format((m)),\"kg\") \n",
    "print(f'Integer: {m:.0f} kg') \n"
   ]
  },
  {
   "cell_type": "code",
   "execution_count": 2,
   "id": "94806096",
   "metadata": {},
   "outputs": [
    {
     "name": "stdout",
     "output_type": "stream",
     "text": [
      "Parsec, p = 11061488775.899717 um\n",
      "Float: 11061488775.899717 um\n",
      "String: 11061488775.8997173 um\n",
      "Integer: 11061488776 um\n"
     ]
    }
   ],
   "source": [
    "import math\n",
    "\n",
    "p = 3.085567*math.exp(22) # um, Parsec \n",
    "\n",
    "print(\"Parsec, p =\",p,\"um\")\n",
    "print(f'Float: {p:f} um') \n",
    "print(\"String: {:.7f}\".format(p),\"um\") \n",
    "print(f'Integer: {p:.0f} um') "
   ]
  },
  {
   "cell_type": "code",
   "execution_count": null,
   "id": "9ecfc240",
   "metadata": {},
   "outputs": [],
   "source": []
  }
 ],
 "metadata": {
  "kernelspec": {
   "display_name": "Python 3",
   "language": "python",
   "name": "python3"
  },
  "language_info": {
   "codemirror_mode": {
    "name": "ipython",
    "version": 3
   },
   "file_extension": ".py",
   "mimetype": "text/x-python",
   "name": "python",
   "nbconvert_exporter": "python",
   "pygments_lexer": "ipython3",
   "version": "3.11.4"
  }
 },
 "nbformat": 4,
 "nbformat_minor": 5
}
