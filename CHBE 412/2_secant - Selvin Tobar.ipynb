{
 "cells": [
  {
   "cell_type": "markdown",
   "id": "723064cf",
   "metadata": {},
   "source": [
    "Numerically calculating derivatives is time consuming, especially when considering vector-valued functions. Rather than trying to approximate the derivative at the point $x_i$, you can estimate it using the previous guess $x_{i-1}$:\n",
    "\n",
    "$$\n",
    "\\nabla f(x_i) \\approx \\frac{f(x_i)-f(x_{i-1})}{x_i-x_{i-1}}\n",
    "$$\n",
    "\n",
    "This yields the following algorithm:\n",
    "\n",
    "$$\n",
    "x_{i+1} = x_i - f(x_i)\\frac{x_i-x_{i-1}}{f(x_i)-f(x_{i-1})}\n",
    "$$\n",
    "\n",
    "This is known as the secant method or, when generalized to vector functions, Broyden's method. \n",
    "\n",
    "Write a function that uses the secant methods to solve the equation $f(x) = 0$. The general structure should be\n",
    "\n",
    "```python\n",
    "def secant(f,x,epsilon=1e-6):\n",
    "    # your code goes here\n",
    "```\n",
    "\n",
    "where `f` is the mathematical function, `x` is the initial guess for the root, and `epsilon` is the convergence criterion.\n",
    "\n",
    "Use your function to solve the implicit equations  \n",
    "> a) $0.204 x^3 + 76.1 = 4.04x^2+11.0x$  \n",
    "> b) $\\text{log}\\left(\\frac{1}{1+\\sqrt{x}}\\right) = -\\frac{10.2}{\\sqrt{x}}$    \n",
    "\n",
    "You will need to come up with a solution to initialize the algorithm."
   ]
  },
  {
   "cell_type": "code",
   "execution_count": 88,
   "id": "14c75608",
   "metadata": {},
   "outputs": [
    {
     "name": "stdout",
     "output_type": "stream",
     "text": [
      "The root of this equation is 0.201640\n",
      "The root of this equation is 29.866658\n"
     ]
    }
   ],
   "source": [
    "from math import floor,ceil,log,sqrt\n",
    "\n",
    "def secant(f,x,epsilon=1e-6):\n",
    "    xi = floor(x)   # xi is x(i-1) in this case\n",
    "    xii = ceil(x)   # xii is xi in this case\n",
    "    i=1\n",
    "    while i > epsilon:\n",
    "        xiii = xii - f(xii)*(xii-xi)/((f(xii)-f(xi))) \n",
    "        #print(xiii)                # can uncomment these to see the iterations \n",
    "        #print(f(xiii))\n",
    "        i = abs(f(xiii))\n",
    "        xi = xii\n",
    "        xii = xiii\n",
    "    print(f'The root of this equation is {xiii:f}')\n",
    "        \n",
    "def f1(x):\n",
    "    f = x**3-5*x+1    #define the function here\n",
    "    return f\n",
    "x1 = 0.5           #initial guess at root\n",
    "\n",
    "def f2(x):\n",
    "    f = log(1/(1+sqrt(x)))+10.2/(sqrt(x))    #define the function here\n",
    "    return f\n",
    "x2 = 25.5           #initial guess at root\n",
    "\n",
    "secant(f1,x1)\n",
    "secant(f2,x2)\n"
   ]
  }
 ],
 "metadata": {
  "kernelspec": {
   "display_name": "Python 3",
   "language": "python",
   "name": "python3"
  },
  "language_info": {
   "codemirror_mode": {
    "name": "ipython",
    "version": 3
   },
   "file_extension": ".py",
   "mimetype": "text/x-python",
   "name": "python",
   "nbconvert_exporter": "python",
   "pygments_lexer": "ipython3",
   "version": "3.11.4"
  }
 },
 "nbformat": 4,
 "nbformat_minor": 5
}
