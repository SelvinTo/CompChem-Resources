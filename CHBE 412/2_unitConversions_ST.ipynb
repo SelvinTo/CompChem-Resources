{
 "cells": [
  {
   "cell_type": "markdown",
   "id": "d6ca854c",
   "metadata": {},
   "source": [
    "Convert the following values into base SI units (kg, m, s, K, mol) when you assign them to a variable. Your code must have no more than one variable for each quantity.\n",
    "\n",
    "Use the naming convention `fromUnits_to_toUnits`. For example, the variable that converts pounds to slugs would be named `lbm_to_slug`.\n",
    "\n",
    "> a) 154 cm^2  \n",
    "> b) 70.4 gpm  \n",
    "> c) 231 BTU/hr/ft/°F\n",
    "\n",
    "Print each variable in the following units:  \n",
    "> a) in^2  \n",
    "> b) L/hr  \n",
    "> c) kW/cm/K\n",
    "\n",
    "Sample output for your code is:  \n",
    "`Input:    12 in`  \n",
    "`Internal: 0.3048 m`  \n",
    "`Output:   30.5 cm`"
   ]
  },
  {
   "cell_type": "code",
   "execution_count": 1,
   "id": "774a242d",
   "metadata": {},
   "outputs": [
    {
     "name": "stdout",
     "output_type": "stream",
     "text": [
      "Input: 154 cm^2\n",
      "Internal: 0.01540 m^2\n",
      "Output: 23.87007 in^2\n",
      "\n",
      "Input: 70.4 gpm\n",
      "Internal: 0.00444 m^3/s\n",
      "Output: 15987.84000 L/hr\n",
      "\n",
      "Input: 231 BTU/hr/ft/F\n",
      "Internal: 368.94173 J/s/m/k\n",
      "Output: 0.00369 kW/cm/K\n"
     ]
    }
   ],
   "source": [
    "# Internal units\n",
    "# Length: m\n",
    "# Temperature: K\n",
    "# Mass: kg\n",
    "# Time: s\n",
    "# Volume: m^3\n",
    "\n",
    "#Unit Conversion\n",
    "\n",
    "cm_to_m = 0.01 \n",
    "gal_to_m3 = 0.003785\n",
    "min_to_s = 60\n",
    "hr_to_s = 3600\n",
    "ft_to_m = 0.3048\n",
    "BTU_to_J = 1055.06\n",
    "def degF_to_K(T):\n",
    "    K = (5/9)*(T-32)+273.15\n",
    "    return K\n",
    "m_to_in = 39.3701\n",
    "m3_to_lit = 1000 \n",
    "s_to_hr = 1./hr_to_s\n",
    "Jps_to_kW = 0.001\n",
    "m_to_cm = 1/cm_to_m\n",
    "\n",
    "\n",
    "#Internal values\n",
    "\n",
    "A = 154*cm_to_m**2 #m^2\n",
    "B = 70.4*gal_to_m3/min_to_s # m^3/s\n",
    "C = degF_to_K(231)*BTU_to_J/hr_to_s/ft_to_m #J/s/m/k\n",
    "\n",
    "#Format\n",
    "#Input values\n",
    "#Internal values\n",
    "#Output values\n",
    "\n",
    "print(f'Input: 154 cm^2')\n",
    "print(f'Internal: {A:.5f} m^2')\n",
    "print(f'Output: {A*m_to_in**2:.5f} in^2\\n')\n",
    "\n",
    "print(f'Input: 70.4 gpm')\n",
    "print(f'Internal: {B:.5f} m^3/s')\n",
    "print(f'Output: {B*m3_to_lit/s_to_hr:.5f} L/hr\\n')\n",
    "\n",
    "print(f'Input: 231 BTU/hr/ft/F')\n",
    "print(f'Internal: {C:.5f} J/s/m/k')\n",
    "print(f'Output: {C*Jps_to_kW/m_to_cm:.5f} kW/cm/K')\n",
    "\n"
   ]
  },
  {
   "cell_type": "code",
   "execution_count": null,
   "id": "e261c95f",
   "metadata": {},
   "outputs": [],
   "source": []
  }
 ],
 "metadata": {
  "kernelspec": {
   "display_name": "Python 3",
   "language": "python",
   "name": "python3"
  },
  "language_info": {
   "codemirror_mode": {
    "name": "ipython",
    "version": 3
   },
   "file_extension": ".py",
   "mimetype": "text/x-python",
   "name": "python",
   "nbconvert_exporter": "python",
   "pygments_lexer": "ipython3",
   "version": "3.11.4"
  }
 },
 "nbformat": 4,
 "nbformat_minor": 5
}
