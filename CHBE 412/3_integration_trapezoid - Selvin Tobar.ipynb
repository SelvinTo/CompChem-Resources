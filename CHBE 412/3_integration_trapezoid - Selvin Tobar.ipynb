{
 "cells": [
  {
   "cell_type": "markdown",
   "id": "2fc2e399",
   "metadata": {},
   "source": [
    "Integrals can be evaluated numerically using the trapezoid formula:\n",
    "\n",
    "$$\n",
    "\\begin{align}\n",
    "\\int_a^b f(x)dx &= F(b) - F(a) \\\\\n",
    "&\\approx \\Sigma_{i=1}^N \\frac{f(x_i) + f(x_{i-1})}{2}(x_i-x_{i-1})\n",
    "\\end{align}\n",
    "$$\n",
    "\n",
    "Note that $N$+1 data points are required to evaluate the integral with $N$ trapezoids. Write a function that evaluates the integral of a function using the trapezoid rule. The general structure should be:\n",
    "\n",
    "```python\n",
    "def trap(f,a,b,N):\n",
    "    # your code goes here\n",
    "```\n",
    "\n",
    "Use your function to evaluate the following\n",
    "> a) the integral of $\\text{sin}(x)\\text{cos}(x)$ from $x=0$ to $x=\\pi/2$ using 16 trapezoids  \n",
    "> b) the integral of $\\text{exp}(-x^2/2) x$ from $x=-0.5$ to $x=2.1$ using 25 trapezoids\n",
    "\n",
    "Sample output your code should generate is\n",
    "\n",
    "`f(x) = sin(x)`  \n",
    "`F(x) = -cos(x)`  \n",
    "`The numerical integral of sin(x) from 0 to pi is 1.983524`  \n",
    "`The exact     integral of sin(x) from 0 to pi is 2.000000`  \n",
    "`The relative error is -0.008238`"
   ]
  },
  {
   "cell_type": "code",
   "execution_count": 44,
   "id": "8b30d400",
   "metadata": {},
   "outputs": [
    {
     "name": "stdout",
     "output_type": "stream",
     "text": [
      "f(x) = sin(x)cos(x)\n",
      "F(x) = sin^2(x)/2\n",
      "The numerical integral of sin(x)cos(x) from 0 to pi/2 is 0.498393\n",
      "The exact integral of sin(x)cos(x) from 0 to pi/2 is 0.5\n",
      "The relative error is 0.003215\n",
      "\n",
      "f(x) = exp(-x^2/2)x\n",
      "F(x) = -exp(-x^2/2)\n",
      "The numerical integral of exp(-x^2/2)x from -0.5 to 2.1 is 0.771311\n",
      "The exact integral of exp(-x^2/2)x from -0.5 to 2.1 is 0.7722\n",
      "The relative error is 0.001152\n",
      "\n"
     ]
    }
   ],
   "source": [
    "from math import sin,cos,pi,exp\n",
    "\n",
    "def trap(f,a,b,N):\n",
    "    width = (b-a)/N\n",
    "    sum = 0\n",
    "    for i in range(N):\n",
    "        y = ((f(a+width*(i+1))+f(a+width*(i)))/2)*((a+width*(i+1))-(a+width*i))\n",
    "        sum += y\n",
    "    return sum\n",
    "\n",
    "def f1(x):\n",
    "    f = sin(x)*cos(x)    #define the function here\n",
    "    return f\n",
    "a1 = 0   \n",
    "b1 = pi/2\n",
    "N1 = 16 \n",
    "\n",
    "def f2(x):\n",
    "    f = x*exp(-x**2/2)    #define the function here\n",
    "    return f\n",
    "a2 = -0.5   \n",
    "b2 = 2.1\n",
    "N2 = 25 \n",
    "\n",
    "print(f\"f(x) = sin(x)cos(x)\\nF(x) = sin^2(x)/2\\nThe numerical integral of sin(x)cos(x) from 0 to pi/2 is {trap(f1,a1,b1,N1):.6}\")\n",
    "print(f\"The exact integral of sin(x)cos(x) from 0 to pi/2 is 0.5\\nThe relative error is {abs((trap(f1,a1,b1,N1)-0.5))/0.5:.4}\\n\")\n",
    "\n",
    "print(f\"f(x) = exp(-x^2/2)x\\nF(x) = -exp(-x^2/2)\\nThe numerical integral of exp(-x^2/2)x from -0.5 to 2.1 is {trap(f2,a2,b2,N2):.6}\")\n",
    "print(f\"The exact integral of exp(-x^2/2)x from -0.5 to 2.1 is 0.7722\\nThe relative error is {abs((trap(f2,a2,b2,N2)-0.7722))/0.7722:.4}\\n\")\n",
    "\n"
   ]
  },
  {
   "cell_type": "code",
   "execution_count": null,
   "id": "472aa79e",
   "metadata": {},
   "outputs": [],
   "source": []
  }
 ],
 "metadata": {
  "kernelspec": {
   "display_name": "Python 3",
   "language": "python",
   "name": "python3"
  },
  "language_info": {
   "codemirror_mode": {
    "name": "ipython",
    "version": 3
   },
   "file_extension": ".py",
   "mimetype": "text/x-python",
   "name": "python",
   "nbconvert_exporter": "python",
   "pygments_lexer": "ipython3",
   "version": "3.11.4"
  }
 },
 "nbformat": 4,
 "nbformat_minor": 5
}
