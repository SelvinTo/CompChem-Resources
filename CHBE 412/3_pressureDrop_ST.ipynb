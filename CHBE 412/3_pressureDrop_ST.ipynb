{
 "cells": [
  {
   "cell_type": "markdown",
   "id": "b0bcf76c",
   "metadata": {},
   "source": [
    "The pressure loss per unit length $\\Delta P/L$ for flow through a pipe is\n",
    "\n",
    "$$\n",
    "\\frac{\\Delta P}{L} = f_D \\frac{\\rho}{2}\\frac{\\langle v \\rangle^2}{D}\n",
    "$$\n",
    "\n",
    "where \n",
    "$f_D$ is the Darcy friction factor,\n",
    "$\\rho$ is the fluid density,\n",
    "$\\langle v \\rangle$ is the mean fluid velocity, \n",
    "and\n",
    "$D$ is the pipe diameter.\n",
    "\n",
    "Determine $\\Delta P$, in psi, for 1050 gpm of water at 25°C ($\\rho$ = 997 kg/m$^3$, $\\mu$ = 0.89 cP) flowing through the 600 ft of 6-in diameter, carbon steel pipe. Under these conditions, $f_D$ = 0.0172.\n",
    "\n",
    "Output each of your calculated variables, labelled with variable name, symbol, and appropriate units. Your code should store all variables in base SI units, which should be specified in code comments.\n",
    "\n",
    "A sample of the type of output your code should generate is given below:\n",
    "\n",
    "`Input:\n",
    "  Volume,        V = 50.00 L/mol\n",
    "  Temperature,   T = 750.0 K`  \n",
    "`Output Pressures:\n",
    "  Ideal gas,     P = 1.25 bar`"
   ]
  },
  {
   "cell_type": "code",
   "execution_count": 1,
   "id": "155c1d4a",
   "metadata": {},
   "outputs": [
    {
     "name": "stdout",
     "output_type": "stream",
     "text": [
      "Input: Length, L = 182.8800 m Diameter, D = 0.1524 m Density, rho = 997.00 kg/m^3 Volumetric Flow Rate, Vdot = 0.0662 m^3/s Darcy Friction Factor, fD = 0.02\n",
      "Output: Pressure Loss, ΔP = 19.68 Psi\n"
     ]
    }
   ],
   "source": [
    "from math import pi\n",
    "\n",
    "# Internal Units\n",
    "# Length: m\n",
    "# Mass: kg\n",
    "# Temperature: K\n",
    "# Time: s\n",
    "# Volume: m^3\n",
    "# Pressure: Pas\n",
    "\n",
    "# Unit Conversions\n",
    "\n",
    "gal_to_m3 = 0.003785\n",
    "min_to_s = 60\n",
    "ft_to_m = 0.3048 \n",
    "in_to_m = 0.0254\n",
    "Pas_to_Psi = 0.000145038\n",
    "\n",
    "# water properties\n",
    "rho = 997 #kg/m^3, density\n",
    "\n",
    "# flow parameters\n",
    "fD = 0.0172 # Darcy Friction Factor\n",
    "L = 600 * ft_to_m # m, length\n",
    "D = 6 * in_to_m # m, diameter\n",
    "Vdot = 1050 * gal_to_m3 / min_to_s # m^3/s volumetric flow rate\n",
    "V = Vdot / (pi*D**2/4) # mean fluid velocity <V> = Vdot/A\n",
    "\n",
    "# Main Code\n",
    "\n",
    "ΔP = L*fD*rho/2*V**2/D  # Pascal\n",
    "\n",
    "print(f'Input: Length, L = {L:0.4f} m Diameter, D = {D:0.4f} m Density, rho = {rho:0.2f} kg/m^3 Volumetric Flow Rate, Vdot = {Vdot:0.4f} m^3/s Darcy Friction Factor, fD = {fD:0.2f}')\n",
    "print(f'Output: Pressure Loss, ΔP = {ΔP*Pas_to_Psi:0.2f} Psi')"
   ]
  },
  {
   "cell_type": "code",
   "execution_count": null,
   "id": "5c252009",
   "metadata": {},
   "outputs": [],
   "source": []
  }
 ],
 "metadata": {
  "kernelspec": {
   "display_name": "Python 3",
   "language": "python",
   "name": "python3"
  },
  "language_info": {
   "codemirror_mode": {
    "name": "ipython",
    "version": 3
   },
   "file_extension": ".py",
   "mimetype": "text/x-python",
   "name": "python",
   "nbconvert_exporter": "python",
   "pygments_lexer": "ipython3",
   "version": "3.11.4"
  }
 },
 "nbformat": 4,
 "nbformat_minor": 5
}
