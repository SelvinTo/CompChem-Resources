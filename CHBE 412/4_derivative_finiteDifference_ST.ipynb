{
 "cells": [
  {
   "cell_type": "markdown",
   "id": "4bf3e286",
   "metadata": {},
   "source": [
    "Write a python function that evaluates the numerical derivative of an arbitrary function. Use the backward differences formula:\n",
    "\n",
    "$$\n",
    "\\frac{df(a)}{dx} = \\frac{f(a)-f(a-\\Delta)}{\\Delta}\n",
    "$$\n",
    "\n",
    "where $\\Delta$ is a small number. Try to determine a good value for $\\Delta$. You can provide this information as an optional argument or as a comment in your code. The general structure should be:\n",
    "\n",
    "```python\n",
    "def df(f,a):\n",
    "    # your code goes here\n",
    "```\n",
    "\n",
    "Use your function to evaluate the following:<br>\n",
    "> a) the derivative of sin$^2$($x$) at $x$=4.3<br>\n",
    "> b) the derivative of 10.2/($x^2 - 2.4x$) at $x$=-8.9\n",
    "\n",
    "Sample output your program should generate is:\n",
    "\n",
    "`f(x)  = cos(x)`<br>\n",
    "`f'(x) = -sin(x)`<br>\n",
    "`The numerical derivative of cos(x) at x=0.5 is -0.479426`<br>\n",
    "`The exact     derivative of cos(x) at x=0.5 is -0.479426`<br>\n",
    "`The relative error is -4.533e-12`\n",
    "\n",
    "Hint: Do not try to calculate analytic derivatives with Python. If you do not remember how to analytically take the derivative of a function, just google it."
   ]
  },
  {
   "cell_type": "code",
   "execution_count": 3,
   "id": "dae6e204",
   "metadata": {},
   "outputs": [
    {
     "name": "stdout",
     "output_type": "stream",
     "text": [
      "f(x) = sin^2(x)\n",
      "f'(x) = 2cos(x)sin(x)\n",
      "The numerical derivative of sin^2(x) at x=4.3 is 0.734404\n",
      "The exact derivative of sin^2 at x=4.3 is 0.734397\n",
      "The relative error is 9.375031e-06\n",
      "\n",
      "f(x) = 10.2/(x^2-2.4x)\n",
      "f'(x) = 51/(x(5x-12))\n",
      "The numerical derivative of 10.2/(x^2-2.4x) at x=-8.9 is 0.020371\n",
      "The exact derivative of 10.2/(x^2-2.4x) at x=4.3 is 0.020371\n",
      "The relative error is 3.764363e-06\n",
      "\n"
     ]
    }
   ],
   "source": [
    "# Evaluate the numerical derivative of an arbitrary function\n",
    "from math import sin\n",
    "\n",
    "def df(f,a):\n",
    "    delta = 0.00001\n",
    "    Sol = (f(a) - f(a - delta))/delta\n",
    "    return Sol\n",
    "\n",
    "def f(x):\n",
    "    f = (sin(x))**2     #define the function here\n",
    "    return f\n",
    "x = 4.3           #define the value at which to take the derivative at here\n",
    " \n",
    "print(f\"f(x) = sin^2(x)\\nf'(x) = 2cos(x)sin(x)\\nThe numerical derivative of sin^2(x) at x=4.3 is {df(f,x):0.06f}\")\n",
    "print(f\"The exact derivative of sin^2 at x=4.3 is 0.734397\\nThe relative error is {abs((df(f,x)-0.734397)/0.734397):e}\\n\")\n",
    "\n",
    "def g(k):\n",
    "    g = 10.2/(k**2-2.4*k)     #define the function here\n",
    "    return g\n",
    "k = -8.9           #define the value at which to take the derivative at here\n",
    "\n",
    "print(f\"f(x) = 10.2/(x^2-2.4x)\\nf'(x) = 51/(x(5x-12))\\nThe numerical derivative of 10.2/(x^2-2.4x) at x=-8.9 is {df(g,k):0.06f}\")\n",
    "print(f\"The exact derivative of 10.2/(x^2-2.4x) at x=4.3 is 0.020371\\nThe relative error is {abs((df(g,k)-0.020371)/0.020371):e}\\n\")\n",
    "\n",
    "\n",
    "\n"
   ]
  },
  {
   "cell_type": "code",
   "execution_count": null,
   "id": "ace54828",
   "metadata": {},
   "outputs": [],
   "source": []
  }
 ],
 "metadata": {
  "kernelspec": {
   "display_name": "Python 3",
   "language": "python",
   "name": "python3"
  },
  "language_info": {
   "codemirror_mode": {
    "name": "ipython",
    "version": 3
   },
   "file_extension": ".py",
   "mimetype": "text/x-python",
   "name": "python",
   "nbconvert_exporter": "python",
   "pygments_lexer": "ipython3",
   "version": "3.11.4"
  }
 },
 "nbformat": 4,
 "nbformat_minor": 5
}
