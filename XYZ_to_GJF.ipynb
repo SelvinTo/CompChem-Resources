{
 "cells": [
  {
   "cell_type": "code",
   "execution_count": 2,
   "id": "a785d86b-1b4e-4743-b996-c19f7e7424e8",
   "metadata": {},
   "outputs": [],
   "source": [
    "import os\n",
    "\n",
    "def crest_xyz_to_gjf(xyz_file, output_folder, method='B3LYP', basis_set='6-31G(d)', charge=0, multiplicity=1):   #Can change Method/Basis_Set here\n",
    "    \"\"\"\n",
    "    Convert a CREST XYZ file with multiple conformers to separate Gaussian input (GJF) files,\n",
    "    and store them in a specified output folder.\n",
    "\n",
    "    Parameters:\n",
    "    xyz_file (str or file-like object): Path to the input CREST XYZ file or a file-like object.\n",
    "    output_folder (str): Path to the folder where the output GJF files will be saved.\n",
    "    method (str): The computational method to use in Gaussian (default: B3LYP).\n",
    "    basis_set (str): The basis set to use in Gaussian (default: 6-31G(d)).\n",
    "    charge (int): The total charge of the molecule (default: 0).\n",
    "    multiplicity (int): The multiplicity of the molecule (default: 1).\n",
    "    \"\"\"\n",
    "    # Create the output folder if it doesn't exist\n",
    "    if not os.path.exists(output_folder):\n",
    "        os.makedirs(output_folder)\n",
    "\n",
    "    # Open the XYZ file\n",
    "    if isinstance(xyz_file, str):\n",
    "        xyz_file = open(xyz_file, 'r')\n",
    "\n",
    "    lines = xyz_file.readlines()\n",
    "    xyz_file.close()\n",
    "\n",
    "    index = 0\n",
    "    num_lines = len(lines)\n",
    "    conformer_index = 0\n",
    "\n",
    "    while index < num_lines:\n",
    "        # Read number of atoms\n",
    "        num_atoms = int(lines[index].strip())\n",
    "        index += 1\n",
    "\n",
    "        # Read energy or comments\n",
    "        energy_or_comment = lines[index].strip()\n",
    "        index += 1\n",
    "\n",
    "        # Extract atomic coordinates for the conformer\n",
    "        atoms = []\n",
    "        for _ in range(num_atoms):\n",
    "            parts = lines[index].split()\n",
    "            element = parts[0]\n",
    "            x, y, z = map(float, parts[1:4])\n",
    "            atoms.append((element, x, y, z))\n",
    "            index += 1\n",
    "\n",
    "        # Write the GJF file for the current conformer\n",
    "        gjf_filename = os.path.join(output_folder, f\"conformer_{conformer_index + 1}.gjf\")\n",
    "        with open(gjf_filename, 'w') as gjf_file:\n",
    "            gjf_file.write('%mem=16GB\\n')\n",
    "            gjf_file.write('%nprocshared=16\\n')\n",
    "            gjf_file.write(f'# opt freq {method}/{basis_set} empiricaldispersion=gd3bj integral=ultrafine \\n\\n')    #Gaussian Input_Line/Parameters \n",
    "            gjf_file.write(f'{energy_or_comment}\\n\\n')\n",
    "            gjf_file.write(f'{charge} {multiplicity}\\n')\n",
    "            for atom in atoms:\n",
    "                element, x, y, z = atom\n",
    "                gjf_file.write(f'{element:>2}{x:>28.8f}{y:>14.8f}{z:>14.8f}\\n')\n",
    "            gjf_file.write('\\n')\n",
    "\n",
    "        conformer_index += 1"
   ]
  },
  {
   "cell_type": "code",
   "execution_count": 4,
   "id": "e9769c1a-1c27-4604-a212-6eaf696fc425",
   "metadata": {},
   "outputs": [],
   "source": [
    "# Example usage:\n",
    "xyz_file_path = 'Test.xyz'   #Put path to xyz file here\n",
    "output_folder = 'Test.gjf'   #Put path to output folder here \n",
    "crest_xyz_to_gjf(xyz_file_path, output_folder)"
   ]
  }
 ],
 "metadata": {
  "kernelspec": {
   "display_name": "Python 3 (ipykernel)",
   "language": "python",
   "name": "python3"
  },
  "language_info": {
   "codemirror_mode": {
    "name": "ipython",
    "version": 3
   },
   "file_extension": ".py",
   "mimetype": "text/x-python",
   "name": "python",
   "nbconvert_exporter": "python",
   "pygments_lexer": "ipython3",
   "version": "3.12.3"
  }
 },
 "nbformat": 4,
 "nbformat_minor": 5
}
